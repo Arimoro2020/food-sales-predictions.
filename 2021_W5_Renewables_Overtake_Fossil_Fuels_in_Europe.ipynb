{
  "nbformat": 4,
  "nbformat_minor": 0,
  "metadata": {
    "colab": {
      "name": "2021/W5: Renewables Overtake Fossil Fuels in Europe.ipynb",
      "provenance": [],
      "collapsed_sections": [],
      "authorship_tag": "ABX9TyPVXoxVYxCUhZmkFee3n78/",
      "include_colab_link": true
    },
    "kernelspec": {
      "name": "python3",
      "display_name": "Python 3"
    }
  },
  "cells": [
    {
      "cell_type": "markdown",
      "metadata": {
        "id": "view-in-github",
        "colab_type": "text"
      },
      "source": [
        "<a href=\"https://colab.research.google.com/github/Arimoro2020/food-sales-predictions./blob/main/2021_W5_Renewables_Overtake_Fossil_Fuels_in_Europe.ipynb\" target=\"_parent\"><img src=\"https://colab.research.google.com/assets/colab-badge.svg\" alt=\"Open In Colab\"/></a>"
      ]
    },
    {
      "cell_type": "markdown",
      "metadata": {
        "id": "jA-YrCXUxo8o"
      },
      "source": [
        "Recreating Ember's Renewables overtake fossil fuels\n",
        "% share of electricity production in EU-27 interactive chart"
      ]
    },
    {
      "cell_type": "code",
      "metadata": {
        "colab": {
          "base_uri": "https://localhost:8080/"
        },
        "id": "B9QDbnFRx8Dg",
        "outputId": "f19eacb6-3949-432f-f77a-237e08990d83"
      },
      "source": [
        "# mount drive\n",
        "from google.colab import drive\n",
        "drive.mount('/content/drive')"
      ],
      "execution_count": 1,
      "outputs": [
        {
          "output_type": "stream",
          "text": [
            "Mounted at /content/drive\n"
          ],
          "name": "stdout"
        }
      ]
    },
    {
      "cell_type": "code",
      "metadata": {
        "id": "F3WKJ17ix8ch"
      },
      "source": [
        "#import libraries\n",
        "import matplotlib.pyplot as plt\n",
        "import pandas as pd\n",
        "import numpy as np\n",
        "\n"
      ],
      "execution_count": 2,
      "outputs": []
    },
    {
      "cell_type": "code",
      "metadata": {
        "colab": {
          "base_uri": "https://localhost:8080/",
          "height": 204
        },
        "id": "64ADioz0x87S",
        "outputId": "b48cecfc-723d-4059-98c9-d53353e6200f"
      },
      "source": [
        "#load data\n",
        "filename = '/content/drive/MyDrive/PTDataScience/Python_for_Data_Visualization/Data-file-Europe-Power-Sector-2020.xlsx'\n",
        "fossil_data_df = pd.read_excel(filename)\n",
        "fossil_data_df.head()"
      ],
      "execution_count": 3,
      "outputs": [
        {
          "output_type": "execute_result",
          "data": {
            "text/html": [
              "<div>\n",
              "<style scoped>\n",
              "    .dataframe tbody tr th:only-of-type {\n",
              "        vertical-align: middle;\n",
              "    }\n",
              "\n",
              "    .dataframe tbody tr th {\n",
              "        vertical-align: top;\n",
              "    }\n",
              "\n",
              "    .dataframe thead th {\n",
              "        text-align: right;\n",
              "    }\n",
              "</style>\n",
              "<table border=\"1\" class=\"dataframe\">\n",
              "  <thead>\n",
              "    <tr style=\"text-align: right;\">\n",
              "      <th></th>\n",
              "      <th>Year</th>\n",
              "      <th>Area</th>\n",
              "      <th>Variable</th>\n",
              "      <th>Generation (TWh)</th>\n",
              "      <th>Share of production (%)</th>\n",
              "      <th>Change on last year (%)</th>\n",
              "      <th>Change on last year (TWh)</th>\n",
              "    </tr>\n",
              "  </thead>\n",
              "  <tbody>\n",
              "    <tr>\n",
              "      <th>0</th>\n",
              "      <td>2000</td>\n",
              "      <td>Austria</td>\n",
              "      <td>Fossil</td>\n",
              "      <td>16.418859</td>\n",
              "      <td>27.432215</td>\n",
              "      <td>NaN</td>\n",
              "      <td>NaN</td>\n",
              "    </tr>\n",
              "    <tr>\n",
              "      <th>1</th>\n",
              "      <td>2000</td>\n",
              "      <td>Austria</td>\n",
              "      <td>Coal</td>\n",
              "      <td>5.727000</td>\n",
              "      <td>9.568527</td>\n",
              "      <td>NaN</td>\n",
              "      <td>NaN</td>\n",
              "    </tr>\n",
              "    <tr>\n",
              "      <th>2</th>\n",
              "      <td>2000</td>\n",
              "      <td>Austria</td>\n",
              "      <td>Hard Coal</td>\n",
              "      <td>4.435000</td>\n",
              "      <td>7.409886</td>\n",
              "      <td>NaN</td>\n",
              "      <td>NaN</td>\n",
              "    </tr>\n",
              "    <tr>\n",
              "      <th>3</th>\n",
              "      <td>2000</td>\n",
              "      <td>Austria</td>\n",
              "      <td>Lignite</td>\n",
              "      <td>1.292000</td>\n",
              "      <td>2.158641</td>\n",
              "      <td>NaN</td>\n",
              "      <td>NaN</td>\n",
              "    </tr>\n",
              "    <tr>\n",
              "      <th>4</th>\n",
              "      <td>2000</td>\n",
              "      <td>Austria</td>\n",
              "      <td>Gas</td>\n",
              "      <td>7.851000</td>\n",
              "      <td>13.117252</td>\n",
              "      <td>NaN</td>\n",
              "      <td>NaN</td>\n",
              "    </tr>\n",
              "  </tbody>\n",
              "</table>\n",
              "</div>"
            ],
            "text/plain": [
              "   Year     Area  ... Change on last year (%)  Change on last year (TWh)\n",
              "0  2000  Austria  ...                     NaN                        NaN\n",
              "1  2000  Austria  ...                     NaN                        NaN\n",
              "2  2000  Austria  ...                     NaN                        NaN\n",
              "3  2000  Austria  ...                     NaN                        NaN\n",
              "4  2000  Austria  ...                     NaN                        NaN\n",
              "\n",
              "[5 rows x 7 columns]"
            ]
          },
          "metadata": {
            "tags": []
          },
          "execution_count": 3
        }
      ]
    },
    {
      "cell_type": "code",
      "metadata": {
        "colab": {
          "base_uri": "https://localhost:8080/"
        },
        "id": "xc8Rrq0_zT89",
        "outputId": "6b204e1b-8171-4f89-9dfe-0192ed2063ae"
      },
      "source": [
        "#check for miissing data\n",
        "fossil_data_df.info()"
      ],
      "execution_count": 4,
      "outputs": [
        {
          "output_type": "stream",
          "text": [
            "<class 'pandas.core.frame.DataFrame'>\n",
            "RangeIndex: 10710 entries, 0 to 10709\n",
            "Data columns (total 7 columns):\n",
            " #   Column                     Non-Null Count  Dtype  \n",
            "---  ------                     --------------  -----  \n",
            " 0   Year                       10710 non-null  int64  \n",
            " 1   Area                       10710 non-null  object \n",
            " 2   Variable                   10710 non-null  object \n",
            " 3   Generation (TWh)           10710 non-null  float64\n",
            " 4   Share of production (%)    8820 non-null   float64\n",
            " 5   Change on last year (%)    8611 non-null   float64\n",
            " 6   Change on last year (TWh)  10200 non-null  float64\n",
            "dtypes: float64(4), int64(1), object(2)\n",
            "memory usage: 585.8+ KB\n"
          ],
          "name": "stdout"
        }
      ]
    },
    {
      "cell_type": "code",
      "metadata": {
        "colab": {
          "base_uri": "https://localhost:8080/"
        },
        "id": "vxRBxhzH0C1R",
        "outputId": "04b76a59-0e71-45b3-9e98-b5607f6da314"
      },
      "source": [
        "# Check for countries in EU-27. should be 27 countries\n",
        "fossil_data_df['Area'].unique()"
      ],
      "execution_count": 5,
      "outputs": [
        {
          "output_type": "execute_result",
          "data": {
            "text/plain": [
              "array(['Austria', 'Belgium', 'Bulgaria', 'Croatia', 'Cyprus',\n",
              "       'Czech Republic', 'Denmark', 'Estonia', 'EU-27', 'EU27+1',\n",
              "       'Finland', 'France', 'Germany', 'Greece', 'Hungary', 'Ireland',\n",
              "       'Italy', 'Latvia', 'Lithuania', 'Luxembourg', 'Malta',\n",
              "       'Netherlands', 'Poland', 'Portugal', 'Romania', 'Slovakia',\n",
              "       'Slovenia', 'Spain', 'Sweden', 'United Kingdom'], dtype=object)"
            ]
          },
          "metadata": {
            "tags": []
          },
          "execution_count": 5
        }
      ]
    },
    {
      "cell_type": "code",
      "metadata": {
        "colab": {
          "base_uri": "https://localhost:8080/"
        },
        "id": "e6KzGXvx1Cv2",
        "outputId": "2e4649c1-7d3f-48e3-dd84-4680acdcf173"
      },
      "source": [
        "# Drop irrelevant data: UK\n",
        "uk_filter = fossil_data_df[fossil_data_df['Area'] == 'United Kingdom']\n",
        "uk = np.array(uk_filter.index)\n",
        "fossil_data_df.drop(uk, axis=0, inplace=True)\n",
        "fossil_data_df['Area'].unique()\n"
      ],
      "execution_count": 6,
      "outputs": [
        {
          "output_type": "execute_result",
          "data": {
            "text/plain": [
              "array(['Austria', 'Belgium', 'Bulgaria', 'Croatia', 'Cyprus',\n",
              "       'Czech Republic', 'Denmark', 'Estonia', 'EU-27', 'EU27+1',\n",
              "       'Finland', 'France', 'Germany', 'Greece', 'Hungary', 'Ireland',\n",
              "       'Italy', 'Latvia', 'Lithuania', 'Luxembourg', 'Malta',\n",
              "       'Netherlands', 'Poland', 'Portugal', 'Romania', 'Slovakia',\n",
              "       'Slovenia', 'Spain', 'Sweden'], dtype=object)"
            ]
          },
          "metadata": {
            "tags": []
          },
          "execution_count": 6
        }
      ]
    },
    {
      "cell_type": "code",
      "metadata": {
        "colab": {
          "base_uri": "https://localhost:8080/"
        },
        "id": "072ApR499JR-",
        "outputId": "f1acbba7-d29a-49b4-cd1d-9111bf769944"
      },
      "source": [
        "# Drop irrelevant data: 'EU27+1'\n",
        "plusone_filter = fossil_data_df[fossil_data_df['Area'] == 'EU27+1']\n",
        "plusone = np.array(plusone_filter.index)\n",
        "fossil_data_df.drop(plusone, axis=0, inplace=True)\n",
        "fossil_data_df['Area'].unique()"
      ],
      "execution_count": 7,
      "outputs": [
        {
          "output_type": "execute_result",
          "data": {
            "text/plain": [
              "array(['Austria', 'Belgium', 'Bulgaria', 'Croatia', 'Cyprus',\n",
              "       'Czech Republic', 'Denmark', 'Estonia', 'EU-27', 'Finland',\n",
              "       'France', 'Germany', 'Greece', 'Hungary', 'Ireland', 'Italy',\n",
              "       'Latvia', 'Lithuania', 'Luxembourg', 'Malta', 'Netherlands',\n",
              "       'Poland', 'Portugal', 'Romania', 'Slovakia', 'Slovenia', 'Spain',\n",
              "       'Sweden'], dtype=object)"
            ]
          },
          "metadata": {
            "tags": []
          },
          "execution_count": 7
        }
      ]
    },
    {
      "cell_type": "code",
      "metadata": {
        "colab": {
          "base_uri": "https://localhost:8080/"
        },
        "id": "tujcLSZam14u",
        "outputId": "7e901f3d-6a9c-44d5-bebe-7c90a7a33123"
      },
      "source": [
        "# Check for missing data again\n",
        "fossil_data_df.info()"
      ],
      "execution_count": 8,
      "outputs": [
        {
          "output_type": "stream",
          "text": [
            "<class 'pandas.core.frame.DataFrame'>\n",
            "Int64Index: 9996 entries, 0 to 10692\n",
            "Data columns (total 7 columns):\n",
            " #   Column                     Non-Null Count  Dtype  \n",
            "---  ------                     --------------  -----  \n",
            " 0   Year                       9996 non-null   int64  \n",
            " 1   Area                       9996 non-null   object \n",
            " 2   Variable                   9996 non-null   object \n",
            " 3   Generation (TWh)           9996 non-null   float64\n",
            " 4   Share of production (%)    8232 non-null   float64\n",
            " 5   Change on last year (%)    7951 non-null   float64\n",
            " 6   Change on last year (TWh)  9520 non-null   float64\n",
            "dtypes: float64(4), int64(1), object(2)\n",
            "memory usage: 624.8+ KB\n"
          ],
          "name": "stdout"
        }
      ]
    },
    {
      "cell_type": "code",
      "metadata": {
        "colab": {
          "base_uri": "https://localhost:8080/"
        },
        "id": "0ZPwOtCnnHQV",
        "outputId": "4a800127-a3a5-4d09-9157-b32b98a7f0a7"
      },
      "source": [
        "# check where 'share of production (%)' have missing values\n",
        "shareisna = fossil_data_df[fossil_data_df['Share of production (%)'].isna()]\n",
        "shareisna['Variable'].unique()"
      ],
      "execution_count": 9,
      "outputs": [
        {
          "output_type": "execute_result",
          "data": {
            "text/plain": [
              "array(['Production', 'Net imports', 'Demand'], dtype=object)"
            ]
          },
          "metadata": {
            "tags": []
          },
          "execution_count": 9
        }
      ]
    },
    {
      "cell_type": "code",
      "metadata": {
        "colab": {
          "base_uri": "https://localhost:8080/",
          "height": 669
        },
        "id": "PNgDOXkR916x",
        "outputId": "c895c9c6-86cf-4fdb-8166-56aca115bb9d"
      },
      "source": [
        "# create dataframe with 'EU-27' as Area\n",
        "eu_df =fossil_data_df[fossil_data_df['Area'] == 'EU-27']\n",
        "eu_df.tail(20)"
      ],
      "execution_count": 10,
      "outputs": [
        {
          "output_type": "execute_result",
          "data": {
            "text/html": [
              "<div>\n",
              "<style scoped>\n",
              "    .dataframe tbody tr th:only-of-type {\n",
              "        vertical-align: middle;\n",
              "    }\n",
              "\n",
              "    .dataframe tbody tr th {\n",
              "        vertical-align: top;\n",
              "    }\n",
              "\n",
              "    .dataframe thead th {\n",
              "        text-align: right;\n",
              "    }\n",
              "</style>\n",
              "<table border=\"1\" class=\"dataframe\">\n",
              "  <thead>\n",
              "    <tr style=\"text-align: right;\">\n",
              "      <th></th>\n",
              "      <th>Year</th>\n",
              "      <th>Area</th>\n",
              "      <th>Variable</th>\n",
              "      <th>Generation (TWh)</th>\n",
              "      <th>Share of production (%)</th>\n",
              "      <th>Change on last year (%)</th>\n",
              "      <th>Change on last year (TWh)</th>\n",
              "    </tr>\n",
              "  </thead>\n",
              "  <tbody>\n",
              "    <tr>\n",
              "      <th>9840</th>\n",
              "      <td>2019</td>\n",
              "      <td>EU-27</td>\n",
              "      <td>Production</td>\n",
              "      <td>2881.629238</td>\n",
              "      <td>NaN</td>\n",
              "      <td>-1.216522</td>\n",
              "      <td>-35.487355</td>\n",
              "    </tr>\n",
              "    <tr>\n",
              "      <th>9841</th>\n",
              "      <td>2019</td>\n",
              "      <td>EU-27</td>\n",
              "      <td>Net imports</td>\n",
              "      <td>1.809186</td>\n",
              "      <td>NaN</td>\n",
              "      <td>-79.628032</td>\n",
              "      <td>-7.071574</td>\n",
              "    </tr>\n",
              "    <tr>\n",
              "      <th>9842</th>\n",
              "      <td>2019</td>\n",
              "      <td>EU-27</td>\n",
              "      <td>Demand</td>\n",
              "      <td>2883.438423</td>\n",
              "      <td>NaN</td>\n",
              "      <td>-1.454510</td>\n",
              "      <td>-42.558930</td>\n",
              "    </tr>\n",
              "    <tr>\n",
              "      <th>10336</th>\n",
              "      <td>2020</td>\n",
              "      <td>EU-27</td>\n",
              "      <td>Fossil</td>\n",
              "      <td>1020.297527</td>\n",
              "      <td>36.970843</td>\n",
              "      <td>-10.430269</td>\n",
              "      <td>-118.812212</td>\n",
              "    </tr>\n",
              "    <tr>\n",
              "      <th>10337</th>\n",
              "      <td>2020</td>\n",
              "      <td>EU-27</td>\n",
              "      <td>Coal</td>\n",
              "      <td>364.731331</td>\n",
              "      <td>13.216169</td>\n",
              "      <td>-19.879352</td>\n",
              "      <td>-90.496305</td>\n",
              "    </tr>\n",
              "    <tr>\n",
              "      <th>10338</th>\n",
              "      <td>2020</td>\n",
              "      <td>EU-27</td>\n",
              "      <td>Hard Coal</td>\n",
              "      <td>164.562694</td>\n",
              "      <td>5.962988</td>\n",
              "      <td>-21.980067</td>\n",
              "      <td>-46.361217</td>\n",
              "    </tr>\n",
              "    <tr>\n",
              "      <th>10339</th>\n",
              "      <td>2020</td>\n",
              "      <td>EU-27</td>\n",
              "      <td>Lignite</td>\n",
              "      <td>200.168636</td>\n",
              "      <td>7.253182</td>\n",
              "      <td>-18.065663</td>\n",
              "      <td>-44.135087</td>\n",
              "    </tr>\n",
              "    <tr>\n",
              "      <th>10340</th>\n",
              "      <td>2020</td>\n",
              "      <td>EU-27</td>\n",
              "      <td>Gas</td>\n",
              "      <td>544.588827</td>\n",
              "      <td>19.733369</td>\n",
              "      <td>-3.776770</td>\n",
              "      <td>-21.375160</td>\n",
              "    </tr>\n",
              "    <tr>\n",
              "      <th>10341</th>\n",
              "      <td>2020</td>\n",
              "      <td>EU-27</td>\n",
              "      <td>Other fossil</td>\n",
              "      <td>110.977370</td>\n",
              "      <td>4.021304</td>\n",
              "      <td>-5.886074</td>\n",
              "      <td>-6.940747</td>\n",
              "    </tr>\n",
              "    <tr>\n",
              "      <th>10342</th>\n",
              "      <td>2020</td>\n",
              "      <td>EU-27</td>\n",
              "      <td>Nuclear</td>\n",
              "      <td>685.103660</td>\n",
              "      <td>24.824974</td>\n",
              "      <td>-10.487438</td>\n",
              "      <td>-80.267860</td>\n",
              "    </tr>\n",
              "    <tr>\n",
              "      <th>10343</th>\n",
              "      <td>2020</td>\n",
              "      <td>EU-27</td>\n",
              "      <td>Renewables</td>\n",
              "      <td>1054.334436</td>\n",
              "      <td>38.204183</td>\n",
              "      <td>7.899158</td>\n",
              "      <td>77.186458</td>\n",
              "    </tr>\n",
              "    <tr>\n",
              "      <th>10344</th>\n",
              "      <td>2020</td>\n",
              "      <td>EU-27</td>\n",
              "      <td>Hydro</td>\n",
              "      <td>351.567109</td>\n",
              "      <td>12.739159</td>\n",
              "      <td>8.455735</td>\n",
              "      <td>27.409875</td>\n",
              "    </tr>\n",
              "    <tr>\n",
              "      <th>10345</th>\n",
              "      <td>2020</td>\n",
              "      <td>EU-27</td>\n",
              "      <td>Wind and solar</td>\n",
              "      <td>540.162378</td>\n",
              "      <td>19.572976</td>\n",
              "      <td>10.458052</td>\n",
              "      <td>51.142004</td>\n",
              "    </tr>\n",
              "    <tr>\n",
              "      <th>10346</th>\n",
              "      <td>2020</td>\n",
              "      <td>EU-27</td>\n",
              "      <td>Wind</td>\n",
              "      <td>396.442433</td>\n",
              "      <td>14.365232</td>\n",
              "      <td>8.977566</td>\n",
              "      <td>32.658906</td>\n",
              "    </tr>\n",
              "    <tr>\n",
              "      <th>10347</th>\n",
              "      <td>2020</td>\n",
              "      <td>EU-27</td>\n",
              "      <td>Solar</td>\n",
              "      <td>143.719944</td>\n",
              "      <td>5.207743</td>\n",
              "      <td>14.758515</td>\n",
              "      <td>18.483098</td>\n",
              "    </tr>\n",
              "    <tr>\n",
              "      <th>10348</th>\n",
              "      <td>2020</td>\n",
              "      <td>EU-27</td>\n",
              "      <td>Bioenergy</td>\n",
              "      <td>155.408169</td>\n",
              "      <td>5.631270</td>\n",
              "      <td>-0.846558</td>\n",
              "      <td>-1.326853</td>\n",
              "    </tr>\n",
              "    <tr>\n",
              "      <th>10349</th>\n",
              "      <td>2020</td>\n",
              "      <td>EU-27</td>\n",
              "      <td>Other renewables</td>\n",
              "      <td>7.196780</td>\n",
              "      <td>0.260778</td>\n",
              "      <td>-0.533060</td>\n",
              "      <td>-0.038569</td>\n",
              "    </tr>\n",
              "    <tr>\n",
              "      <th>10350</th>\n",
              "      <td>2020</td>\n",
              "      <td>EU-27</td>\n",
              "      <td>Production</td>\n",
              "      <td>2759.735623</td>\n",
              "      <td>NaN</td>\n",
              "      <td>-4.230024</td>\n",
              "      <td>-121.893614</td>\n",
              "    </tr>\n",
              "    <tr>\n",
              "      <th>10351</th>\n",
              "      <td>2020</td>\n",
              "      <td>EU-27</td>\n",
              "      <td>Net imports</td>\n",
              "      <td>18.649733</td>\n",
              "      <td>NaN</td>\n",
              "      <td>930.835844</td>\n",
              "      <td>16.840548</td>\n",
              "    </tr>\n",
              "    <tr>\n",
              "      <th>10352</th>\n",
              "      <td>2020</td>\n",
              "      <td>EU-27</td>\n",
              "      <td>Demand</td>\n",
              "      <td>2778.385357</td>\n",
              "      <td>NaN</td>\n",
              "      <td>-3.643326</td>\n",
              "      <td>-105.053066</td>\n",
              "    </tr>\n",
              "  </tbody>\n",
              "</table>\n",
              "</div>"
            ],
            "text/plain": [
              "       Year   Area  ... Change on last year (%)  Change on last year (TWh)\n",
              "9840   2019  EU-27  ...               -1.216522                 -35.487355\n",
              "9841   2019  EU-27  ...              -79.628032                  -7.071574\n",
              "9842   2019  EU-27  ...               -1.454510                 -42.558930\n",
              "10336  2020  EU-27  ...              -10.430269                -118.812212\n",
              "10337  2020  EU-27  ...              -19.879352                 -90.496305\n",
              "10338  2020  EU-27  ...              -21.980067                 -46.361217\n",
              "10339  2020  EU-27  ...              -18.065663                 -44.135087\n",
              "10340  2020  EU-27  ...               -3.776770                 -21.375160\n",
              "10341  2020  EU-27  ...               -5.886074                  -6.940747\n",
              "10342  2020  EU-27  ...              -10.487438                 -80.267860\n",
              "10343  2020  EU-27  ...                7.899158                  77.186458\n",
              "10344  2020  EU-27  ...                8.455735                  27.409875\n",
              "10345  2020  EU-27  ...               10.458052                  51.142004\n",
              "10346  2020  EU-27  ...                8.977566                  32.658906\n",
              "10347  2020  EU-27  ...               14.758515                  18.483098\n",
              "10348  2020  EU-27  ...               -0.846558                  -1.326853\n",
              "10349  2020  EU-27  ...               -0.533060                  -0.038569\n",
              "10350  2020  EU-27  ...               -4.230024                -121.893614\n",
              "10351  2020  EU-27  ...              930.835844                  16.840548\n",
              "10352  2020  EU-27  ...               -3.643326                -105.053066\n",
              "\n",
              "[20 rows x 7 columns]"
            ]
          },
          "metadata": {
            "tags": []
          },
          "execution_count": 10
        }
      ]
    },
    {
      "cell_type": "code",
      "metadata": {
        "colab": {
          "base_uri": "https://localhost:8080/"
        },
        "id": "KmtGtmmR_kLL",
        "outputId": "2cb8c56b-77de-4308-eddb-3b2b5dd3bf23"
      },
      "source": [
        "# Check for unique variables\n",
        "fossil_data_df['Variable'].unique()"
      ],
      "execution_count": 11,
      "outputs": [
        {
          "output_type": "execute_result",
          "data": {
            "text/plain": [
              "array(['Fossil', 'Coal', 'Hard Coal', 'Lignite', 'Gas', 'Other fossil',\n",
              "       'Nuclear', 'Renewables', 'Hydro', 'Wind and solar', 'Wind',\n",
              "       'Solar', 'Bioenergy', 'Other renewables', 'Production',\n",
              "       'Net imports', 'Demand'], dtype=object)"
            ]
          },
          "metadata": {
            "tags": []
          },
          "execution_count": 11
        }
      ]
    },
    {
      "cell_type": "code",
      "metadata": {
        "id": "tsju9WGVWmXB",
        "colab": {
          "base_uri": "https://localhost:8080/"
        },
        "outputId": "b60b195b-4158-446b-a8db-0fb36c85ef4a"
      },
      "source": [
        "# Generation values for renewables in (TWh)\n",
        "filter1 = eu_df['Variable'] == 'Hydro'\n",
        "filter2 = eu_df['Variable'] == 'Wind and solar'\n",
        "filter3 = eu_df['Variable'] == 'Wind'\n",
        "filter4 = eu_df['Variable'] == 'Solar'\n",
        "filter5 = eu_df['Variable'] == 'Other renewables'\n",
        "filter6 = eu_df['Variable'] == 'Renewables'\n",
        "filter7 = eu_df['Variable'] == 'Bioenergy'\n",
        "renewable = eu_df[filter1 | filter3 | filter4 | filter5 | filter7]\n",
        "generation = renewable.groupby('Year')['Generation (TWh)'].sum()\n",
        "a = generation.values\n",
        "a"
      ],
      "execution_count": 12,
      "outputs": [
        {
          "output_type": "execute_result",
          "data": {
            "text/plain": [
              "array([ 410.942705  ,  439.079484  ,  393.133697  ,  398.496846  ,\n",
              "        441.241018  ,  444.891626  ,  468.560922  ,  497.701896  ,\n",
              "        541.945561  ,  572.384721  ,  653.92726   ,  645.577833  ,\n",
              "        728.439665  ,  806.91877   ,  837.650952  ,  856.50752   ,\n",
              "        871.828567  ,  875.614082  ,  942.60841   ,  977.14797849,\n",
              "       1054.33443646])"
            ]
          },
          "metadata": {
            "tags": []
          },
          "execution_count": 12
        }
      ]
    },
    {
      "cell_type": "code",
      "metadata": {
        "colab": {
          "base_uri": "https://localhost:8080/"
        },
        "id": "l_zPobV7qaWI",
        "outputId": "0e3cfaef-b317-49fa-ae20-640417a22f23"
      },
      "source": [
        "# Years are from 2000 to 2020\n",
        "x = generation.index\n",
        "x\n"
      ],
      "execution_count": 13,
      "outputs": [
        {
          "output_type": "execute_result",
          "data": {
            "text/plain": [
              "Int64Index([2000, 2001, 2002, 2003, 2004, 2005, 2006, 2007, 2008, 2009, 2010,\n",
              "            2011, 2012, 2013, 2014, 2015, 2016, 2017, 2018, 2019, 2020],\n",
              "           dtype='int64', name='Year')"
            ]
          },
          "metadata": {
            "tags": []
          },
          "execution_count": 13
        }
      ]
    },
    {
      "cell_type": "code",
      "metadata": {
        "colab": {
          "base_uri": "https://localhost:8080/"
        },
        "id": "8SNpvaCbsFx8",
        "outputId": "085b728c-ed3f-44f4-e253-9480a5f6ba8f"
      },
      "source": [
        "# Production Values per year\n",
        "production_filter = eu_df['Variable'] == 'Production'\n",
        "production = eu_df[production_filter]\n",
        "production_val = production.groupby('Year')['Generation (TWh)'].mean()\n",
        "b = production_val.values\n",
        "b"
      ],
      "execution_count": 14,
      "outputs": [
        {
          "output_type": "execute_result",
          "data": {
            "text/plain": [
              "array([2629.21708   , 2705.852275  , 2723.66442   , 2805.392041  ,\n",
              "       2873.59166   , 2888.546996  , 2940.826295  , 2955.538945  ,\n",
              "       2968.996899  , 2817.216775  , 2954.380045  , 2914.034199  ,\n",
              "       2908.963177  , 2889.104488  , 2829.879658  , 2876.87391   ,\n",
              "       2898.291276  , 2929.632221  , 2917.116593  , 2881.62923771,\n",
              "       2759.73562341])"
            ]
          },
          "metadata": {
            "tags": []
          },
          "execution_count": 14
        }
      ]
    },
    {
      "cell_type": "code",
      "metadata": {
        "colab": {
          "base_uri": "https://localhost:8080/"
        },
        "id": "T2lKuJzpZOYU",
        "outputId": "cd67e1bf-7c95-41a8-b370-8a80b049083e"
      },
      "source": [
        "# Share % of renewables per year\n",
        "share_renewable = []\n",
        "for i in range(len(a)):\n",
        "  share = (a[i]/b[i]) * 100\n",
        "  share_renewable.append(share)\n",
        "\n",
        "share_renewable = np.round(share_renewable, 1) \n",
        "share_renewable \n",
        "    "
      ],
      "execution_count": 15,
      "outputs": [
        {
          "output_type": "execute_result",
          "data": {
            "text/plain": [
              "array([15.6, 16.2, 14.4, 14.2, 15.4, 15.4, 15.9, 16.8, 18.3, 20.3, 22.1,\n",
              "       22.2, 25. , 27.9, 29.6, 29.8, 30.1, 29.9, 32.3, 33.9, 38.2])"
            ]
          },
          "metadata": {
            "tags": []
          },
          "execution_count": 15
        }
      ]
    },
    {
      "cell_type": "code",
      "metadata": {
        "colab": {
          "base_uri": "https://localhost:8080/"
        },
        "id": "q3L46lbUxome",
        "outputId": "da122f1f-0a6b-4f96-9b77-536a8d33b8f4"
      },
      "source": [
        "# Generation values in (TWh) of Fossil feuls per year\n",
        "filter8 = eu_df['Variable'] == 'Fossil'\n",
        "generation_fossil = eu_df[filter8]\n",
        "generation_fossil_val = generation_fossil.groupby('Year')['Generation (TWh)'].mean()\n",
        "c = generation_fossil_val.values\n",
        "c\n",
        "\n",
        "\n"
      ],
      "execution_count": 16,
      "outputs": [
        {
          "output_type": "execute_result",
          "data": {
            "text/plain": [
              "array([1358.350375  , 1377.885791  , 1428.224723  , 1499.681195  ,\n",
              "       1503.877642  , 1527.62937   , 1557.708373  , 1585.622049  ,\n",
              "       1542.017338  , 1419.952054  , 1445.938785  , 1430.658603  ,\n",
              "       1368.522495  , 1275.953047  , 1179.707697  , 1233.677582  ,\n",
              "       1258.538227  , 1294.659496  , 1212.570135  , 1139.10973894,\n",
              "       1020.29752707])"
            ]
          },
          "metadata": {
            "tags": []
          },
          "execution_count": 16
        }
      ]
    },
    {
      "cell_type": "code",
      "metadata": {
        "colab": {
          "base_uri": "https://localhost:8080/"
        },
        "id": "QnfBeIUyehtN",
        "outputId": "e9d21473-159a-4e5e-ca0b-e88d9a63ec62"
      },
      "source": [
        "# Share % of Fossil fuel Production per year\n",
        "share_fossil = []\n",
        "for i in range(len(c)):\n",
        "  share = (c[i]/b[i]) * 100\n",
        "  share_fossil.append(share)\n",
        "\n",
        "share_fossil = np.round(share_fossil, 1)\n",
        "share_fossil"
      ],
      "execution_count": 17,
      "outputs": [
        {
          "output_type": "execute_result",
          "data": {
            "text/plain": [
              "array([51.7, 50.9, 52.4, 53.5, 52.3, 52.9, 53. , 53.6, 51.9, 50.4, 48.9,\n",
              "       49.1, 47. , 44.2, 41.7, 42.9, 43.4, 44.2, 41.6, 39.5, 37. ])"
            ]
          },
          "metadata": {
            "tags": []
          },
          "execution_count": 17
        }
      ]
    },
    {
      "cell_type": "code",
      "metadata": {
        "colab": {
          "base_uri": "https://localhost:8080/"
        },
        "id": "pmjpCNGT3twR",
        "outputId": "f055f799-d101-4f19-b1ff-a9218dd077ad"
      },
      "source": [
        "# Generation values of Wind & Solar per year in (TWh)\n",
        "wind_solar = eu_df[filter2]\n",
        "ws = wind_solar.groupby('Year')['Generation (TWh)'].sum()\n",
        "d = ws.values\n",
        "d"
      ],
      "execution_count": 18,
      "outputs": [
        {
          "output_type": "execute_result",
          "data": {
            "text/plain": [
              "array([ 21.517209  ,  25.946982  ,  35.284752  ,  43.822649  ,\n",
              "        58.341223  ,  69.69705   ,  81.25668   , 103.700171  ,\n",
              "       120.667518  , 138.794579  , 163.090205  , 212.678423  ,\n",
              "       257.577632  , 293.531771  , 316.572577  , 364.012818  ,\n",
              "       367.945191  , 420.241142  , 435.565941  , 489.02037361,\n",
              "       540.16237762])"
            ]
          },
          "metadata": {
            "tags": []
          },
          "execution_count": 18
        }
      ]
    },
    {
      "cell_type": "code",
      "metadata": {
        "colab": {
          "base_uri": "https://localhost:8080/"
        },
        "id": "jpHnLl084qgx",
        "outputId": "505eb0bf-cbe1-42ab-b896-e8fbe834de82"
      },
      "source": [
        "# Share % of Wind & Solar of Production per year\n",
        "share_ws = []\n",
        "for i in range(len(d)):\n",
        "  share = (d[i]/b[i]) * 100\n",
        "  share_ws.append(share)\n",
        "\n",
        "share_ws = np.round(share_ws, 1) \n",
        "share_ws"
      ],
      "execution_count": 19,
      "outputs": [
        {
          "output_type": "execute_result",
          "data": {
            "text/plain": [
              "array([ 0.8,  1. ,  1.3,  1.6,  2. ,  2.4,  2.8,  3.5,  4.1,  4.9,  5.5,\n",
              "        7.3,  8.9, 10.2, 11.2, 12.7, 12.7, 14.3, 14.9, 17. , 19.6])"
            ]
          },
          "metadata": {
            "tags": []
          },
          "execution_count": 19
        }
      ]
    },
    {
      "cell_type": "code",
      "metadata": {
        "colab": {
          "base_uri": "https://localhost:8080/"
        },
        "id": "5OBeJFhF5XSe",
        "outputId": "d62a5167-e854-4138-f7d1-79eab56cc06b"
      },
      "source": [
        "# generation values for Coal per year in (TWh)\n",
        "filter9 = eu_df['Variable'] == 'Coal'\n",
        "coal_filter = eu_df[filter9]\n",
        "cl = coal_filter.groupby('Year')['Generation (TWh)'].sum()\n",
        "e = cl.values\n",
        "e"
      ],
      "execution_count": 20,
      "outputs": [
        {
          "output_type": "execute_result",
          "data": {
            "text/plain": [
              "array([795.053     , 792.372     , 807.352     , 849.114     ,\n",
              "       835.444     , 808.939221  , 816.229869  , 828.794459  ,\n",
              "       757.034054  , 703.612826  , 701.231144  , 725.265759  ,\n",
              "       743.577179  , 728.913822  , 692.742333  , 704.991847  ,\n",
              "       659.126602  , 638.888604  , 595.654605  , 455.22763515,\n",
              "       364.73133055])"
            ]
          },
          "metadata": {
            "tags": []
          },
          "execution_count": 20
        }
      ]
    },
    {
      "cell_type": "code",
      "metadata": {
        "colab": {
          "base_uri": "https://localhost:8080/"
        },
        "id": "PRFUdyoH6UHY",
        "outputId": "d87b16b6-f352-4577-a855-329db7399e54"
      },
      "source": [
        "# share % of Coal in Production per year\n",
        "share_cl = []\n",
        "for i in range(len(e)):\n",
        "  share = (e[i]/b[i]) * 100\n",
        "  share_cl.append(share)\n",
        "\n",
        "share_cl = np.round(share_cl, 1)\n",
        "share_cl"
      ],
      "execution_count": 21,
      "outputs": [
        {
          "output_type": "execute_result",
          "data": {
            "text/plain": [
              "array([30.2, 29.3, 29.6, 30.3, 29.1, 28. , 27.8, 28. , 25.5, 25. , 23.7,\n",
              "       24.9, 25.6, 25.2, 24.5, 24.5, 22.7, 21.8, 20.4, 15.8, 13.2])"
            ]
          },
          "metadata": {
            "tags": []
          },
          "execution_count": 21
        }
      ]
    },
    {
      "cell_type": "code",
      "metadata": {
        "colab": {
          "base_uri": "https://localhost:8080/",
          "height": 717
        },
        "id": "lBY6A7wh4rk1",
        "outputId": "fce682b2-405d-4613-f675-d67256bc7296"
      },
      "source": [
        "import plotly.graph_objects as go\n",
        "import numpy as np\n",
        "\n",
        "title = \"Renewables overtake fossil fuels\\n\"\\\n",
        "        \"% share of electricity production in EU-27\"\n",
        "        \n",
        "labels = ['Fossil fuel', 'Renewable', 'Coal', 'Wind and Solar']\n",
        "colors = ['rgb(42, 46, 41)', 'rgb(34, 156, 16)', 'rgb(132, 135, 131)', 'rgb(38, 240, 7)']\n",
        "mode_style = ['lines+markers', 'lines+markers', 'lines+markers', 'lines+markers']\n",
        "mode_size = [8, 8, 12, 8]\n",
        "line_size = [2.5, 2.5, 2.5, 2.5]\n",
        "\n",
        "x_data = [x, x, x, x]\n",
        "\n",
        "y_data = [share_fossil, share_renewable, share_cl, share_ws]\n",
        "\n",
        "\n",
        "fig = go.Figure()\n",
        "\n",
        "for i in range(0, 4):\n",
        "    fig.add_trace(go.Scatter(x=x_data[i], y=y_data[i], mode=mode_style[i],\n",
        "        name=labels[i],\n",
        "        line=dict(color=colors[i], width=line_size[i]),\n",
        "        connectgaps=True,\n",
        "    ))\n",
        "\n",
        "    # endpoints\n",
        "    fig.add_trace(go.Scatter(\n",
        "        x=[x_data[i][0], x_data[i][-1]],\n",
        "        y=[y_data[i][0], y_data[i][-1]],\n",
        "        mode='markers',\n",
        "        marker=dict(color=colors[i], size=8)\n",
        "    ))\n",
        "fig.update_layout(\n",
        "    xaxis=dict(\n",
        "        showline=True,\n",
        "        showgrid=False,\n",
        "        showticklabels=True,\n",
        "        linecolor='rgb(204, 204, 204)',\n",
        "        linewidth=2,\n",
        "        ticks='outside',\n",
        "        tickfont=dict(\n",
        "            family='Arial',\n",
        "            size=12,\n",
        "            color='rgb(82, 82, 82)',\n",
        "        ),\n",
        "    ),\n",
        "    width=1000,\n",
        "    height=700,\n",
        "    yaxis=dict(\n",
        "        showgrid=True,\n",
        "        zeroline=True,\n",
        "        showline=False,\n",
        "        showticklabels=True,\n",
        "    ),\n",
        "    autosize=False,\n",
        "    margin=dict(\n",
        "        autoexpand=False,\n",
        "        l=120,\n",
        "        r=120,\n",
        "        t=120,\n",
        "    ),\n",
        "    showlegend=False,\n",
        "    plot_bgcolor='rgb(243, 245, 242)'\n",
        ")\n",
        "    \n",
        "fig.update_xaxes(range=['2010', '2020'], nticks=11)\n",
        "fig.update_yaxes(gridcolor='rgb(169, 173, 168)')\n",
        "annotations = []\n",
        "\n",
        "# Adding labels\n",
        "for y_trace, label, color in zip(y_data, labels, colors):\n",
        "    # labeling the left_side of the plot\n",
        "    annotations.append(dict(xref='paper', x=0, y=y_trace[10],\n",
        "                                  xanchor='right', yanchor='middle',\n",
        "                                  text=' {}%'.format(y_trace[10]),\n",
        "                                  font=dict(family='Arial',\n",
        "                                            size=11),\n",
        "                                  showarrow=False))\n",
        "    # labeling the right_side of the plot\n",
        "    annotations.append(dict(xref='paper', x=1, y=y_trace[20],\n",
        "                                  xanchor='left', yanchor='middle',\n",
        "                                  text=label.format(y_trace[20]),\n",
        "                                  font=dict(family='Arial',\n",
        "                                            size=15),\n",
        "                                  showarrow=False))\n",
        "# Title\n",
        "annotations.append(dict(xref='paper', yref='paper', x=0.0, y=0.99,\n",
        "                              xanchor='left', yanchor='top',\n",
        "                              text=\"Renewables overtake fossil fuels\",\n",
        "                              font=dict(family='Arial',\n",
        "                                        size=24,\n",
        "                                        color='rgb(42, 46, 41)'),\n",
        "                              showarrow=False))\n",
        "annotations.append(dict(xref='paper', yref='paper', x=0.0, y=0.94,\n",
        "                              xanchor='left', yanchor='top',\n",
        "                              text=\"% share of electricity production in EU-27\",\n",
        "                              font=dict(family='Arial',\n",
        "                                        size=16,\n",
        "                                        color='rgb(42, 46, 41)'),\n",
        "                              showarrow=False))\n",
        "# Source\n",
        "annotations.append(dict(xref='paper', yref='paper', x=0.43, y=0.05,\n",
        "                              xanchor='center', yanchor='top',\n",
        "                              text=\"\\\"Europe's Power Sector in 2020\\\"\" + \", published by Ember and Agora Energiewende on 25th January 2021.\",\n",
        "                              font=dict(family='Arial',\n",
        "                                        size=14,\n",
        "                                       color='rgb(150,150,150)'),\n",
        "                              showarrow=False))\n",
        "fig.update_layout(annotations=annotations)\n",
        "\n",
        "\n",
        "fig.show()\n"
      ],
      "execution_count": 22,
      "outputs": [
        {
          "output_type": "display_data",
          "data": {
            "text/html": [
              "<html>\n",
              "<head><meta charset=\"utf-8\" /></head>\n",
              "<body>\n",
              "    <div>\n",
              "            <script src=\"https://cdnjs.cloudflare.com/ajax/libs/mathjax/2.7.5/MathJax.js?config=TeX-AMS-MML_SVG\"></script><script type=\"text/javascript\">if (window.MathJax) {MathJax.Hub.Config({SVG: {font: \"STIX-Web\"}});}</script>\n",
              "                <script type=\"text/javascript\">window.PlotlyConfig = {MathJaxConfig: 'local'};</script>\n",
              "        <script src=\"https://cdn.plot.ly/plotly-latest.min.js\"></script>    \n",
              "            <div id=\"7e45cb1d-2d0c-4b70-bea7-2584cc4c2dcf\" class=\"plotly-graph-div\" style=\"height:700px; width:1000px;\"></div>\n",
              "            <script type=\"text/javascript\">\n",
              "                \n",
              "                    window.PLOTLYENV=window.PLOTLYENV || {};\n",
              "                    \n",
              "                if (document.getElementById(\"7e45cb1d-2d0c-4b70-bea7-2584cc4c2dcf\")) {\n",
              "                    Plotly.newPlot(\n",
              "                        '7e45cb1d-2d0c-4b70-bea7-2584cc4c2dcf',\n",
              "                        [{\"connectgaps\": true, \"line\": {\"color\": \"rgb(42, 46, 41)\", \"width\": 2.5}, \"mode\": \"lines+markers\", \"name\": \"Fossil fuel\", \"type\": \"scatter\", \"x\": [2000, 2001, 2002, 2003, 2004, 2005, 2006, 2007, 2008, 2009, 2010, 2011, 2012, 2013, 2014, 2015, 2016, 2017, 2018, 2019, 2020], \"y\": [51.7, 50.9, 52.4, 53.5, 52.3, 52.9, 53.0, 53.6, 51.9, 50.4, 48.9, 49.1, 47.0, 44.2, 41.7, 42.9, 43.4, 44.2, 41.6, 39.5, 37.0]}, {\"marker\": {\"color\": \"rgb(42, 46, 41)\", \"size\": 8}, \"mode\": \"markers\", \"type\": \"scatter\", \"x\": [2000, 2020], \"y\": [51.7, 37.0]}, {\"connectgaps\": true, \"line\": {\"color\": \"rgb(34, 156, 16)\", \"width\": 2.5}, \"mode\": \"lines+markers\", \"name\": \"Renewable\", \"type\": \"scatter\", \"x\": [2000, 2001, 2002, 2003, 2004, 2005, 2006, 2007, 2008, 2009, 2010, 2011, 2012, 2013, 2014, 2015, 2016, 2017, 2018, 2019, 2020], \"y\": [15.6, 16.2, 14.4, 14.2, 15.4, 15.4, 15.9, 16.8, 18.3, 20.3, 22.1, 22.2, 25.0, 27.9, 29.6, 29.8, 30.1, 29.9, 32.3, 33.9, 38.2]}, {\"marker\": {\"color\": \"rgb(34, 156, 16)\", \"size\": 8}, \"mode\": \"markers\", \"type\": \"scatter\", \"x\": [2000, 2020], \"y\": [15.6, 38.2]}, {\"connectgaps\": true, \"line\": {\"color\": \"rgb(132, 135, 131)\", \"width\": 2.5}, \"mode\": \"lines+markers\", \"name\": \"Coal\", \"type\": \"scatter\", \"x\": [2000, 2001, 2002, 2003, 2004, 2005, 2006, 2007, 2008, 2009, 2010, 2011, 2012, 2013, 2014, 2015, 2016, 2017, 2018, 2019, 2020], \"y\": [30.2, 29.3, 29.6, 30.3, 29.1, 28.0, 27.8, 28.0, 25.5, 25.0, 23.7, 24.9, 25.6, 25.2, 24.5, 24.5, 22.7, 21.8, 20.4, 15.8, 13.2]}, {\"marker\": {\"color\": \"rgb(132, 135, 131)\", \"size\": 8}, \"mode\": \"markers\", \"type\": \"scatter\", \"x\": [2000, 2020], \"y\": [30.2, 13.2]}, {\"connectgaps\": true, \"line\": {\"color\": \"rgb(38, 240, 7)\", \"width\": 2.5}, \"mode\": \"lines+markers\", \"name\": \"Wind and Solar\", \"type\": \"scatter\", \"x\": [2000, 2001, 2002, 2003, 2004, 2005, 2006, 2007, 2008, 2009, 2010, 2011, 2012, 2013, 2014, 2015, 2016, 2017, 2018, 2019, 2020], \"y\": [0.8, 1.0, 1.3, 1.6, 2.0, 2.4, 2.8, 3.5, 4.1, 4.9, 5.5, 7.3, 8.9, 10.2, 11.2, 12.7, 12.7, 14.3, 14.9, 17.0, 19.6]}, {\"marker\": {\"color\": \"rgb(38, 240, 7)\", \"size\": 8}, \"mode\": \"markers\", \"type\": \"scatter\", \"x\": [2000, 2020], \"y\": [0.8, 19.6]}],\n",
              "                        {\"annotations\": [{\"font\": {\"family\": \"Arial\", \"size\": 11}, \"showarrow\": false, \"text\": \" 48.9%\", \"x\": 0, \"xanchor\": \"right\", \"xref\": \"paper\", \"y\": 48.9, \"yanchor\": \"middle\"}, {\"font\": {\"family\": \"Arial\", \"size\": 15}, \"showarrow\": false, \"text\": \"Fossil fuel\", \"x\": 1, \"xanchor\": \"left\", \"xref\": \"paper\", \"y\": 37.0, \"yanchor\": \"middle\"}, {\"font\": {\"family\": \"Arial\", \"size\": 11}, \"showarrow\": false, \"text\": \" 22.1%\", \"x\": 0, \"xanchor\": \"right\", \"xref\": \"paper\", \"y\": 22.1, \"yanchor\": \"middle\"}, {\"font\": {\"family\": \"Arial\", \"size\": 15}, \"showarrow\": false, \"text\": \"Renewable\", \"x\": 1, \"xanchor\": \"left\", \"xref\": \"paper\", \"y\": 38.2, \"yanchor\": \"middle\"}, {\"font\": {\"family\": \"Arial\", \"size\": 11}, \"showarrow\": false, \"text\": \" 23.7%\", \"x\": 0, \"xanchor\": \"right\", \"xref\": \"paper\", \"y\": 23.7, \"yanchor\": \"middle\"}, {\"font\": {\"family\": \"Arial\", \"size\": 15}, \"showarrow\": false, \"text\": \"Coal\", \"x\": 1, \"xanchor\": \"left\", \"xref\": \"paper\", \"y\": 13.2, \"yanchor\": \"middle\"}, {\"font\": {\"family\": \"Arial\", \"size\": 11}, \"showarrow\": false, \"text\": \" 5.5%\", \"x\": 0, \"xanchor\": \"right\", \"xref\": \"paper\", \"y\": 5.5, \"yanchor\": \"middle\"}, {\"font\": {\"family\": \"Arial\", \"size\": 15}, \"showarrow\": false, \"text\": \"Wind and Solar\", \"x\": 1, \"xanchor\": \"left\", \"xref\": \"paper\", \"y\": 19.6, \"yanchor\": \"middle\"}, {\"font\": {\"color\": \"rgb(42, 46, 41)\", \"family\": \"Arial\", \"size\": 24}, \"showarrow\": false, \"text\": \"Renewables overtake fossil fuels\", \"x\": 0.0, \"xanchor\": \"left\", \"xref\": \"paper\", \"y\": 0.99, \"yanchor\": \"top\", \"yref\": \"paper\"}, {\"font\": {\"color\": \"rgb(42, 46, 41)\", \"family\": \"Arial\", \"size\": 16}, \"showarrow\": false, \"text\": \"% share of electricity production in EU-27\", \"x\": 0.0, \"xanchor\": \"left\", \"xref\": \"paper\", \"y\": 0.94, \"yanchor\": \"top\", \"yref\": \"paper\"}, {\"font\": {\"color\": \"rgb(150,150,150)\", \"family\": \"Arial\", \"size\": 14}, \"showarrow\": false, \"text\": \"\\\"Europe's Power Sector in 2020\\\", published by Ember and Agora Energiewende on 25th January 2021.\", \"x\": 0.43, \"xanchor\": \"center\", \"xref\": \"paper\", \"y\": 0.05, \"yanchor\": \"top\", \"yref\": \"paper\"}], \"autosize\": false, \"height\": 700, \"margin\": {\"autoexpand\": false, \"l\": 120, \"r\": 120, \"t\": 120}, \"plot_bgcolor\": \"rgb(243, 245, 242)\", \"showlegend\": false, \"template\": {\"data\": {\"bar\": [{\"error_x\": {\"color\": \"#2a3f5f\"}, \"error_y\": {\"color\": \"#2a3f5f\"}, \"marker\": {\"line\": {\"color\": \"#E5ECF6\", \"width\": 0.5}}, \"type\": \"bar\"}], \"barpolar\": [{\"marker\": {\"line\": {\"color\": \"#E5ECF6\", \"width\": 0.5}}, \"type\": \"barpolar\"}], \"carpet\": [{\"aaxis\": {\"endlinecolor\": \"#2a3f5f\", \"gridcolor\": \"white\", \"linecolor\": \"white\", \"minorgridcolor\": \"white\", \"startlinecolor\": \"#2a3f5f\"}, \"baxis\": {\"endlinecolor\": \"#2a3f5f\", \"gridcolor\": \"white\", \"linecolor\": \"white\", \"minorgridcolor\": \"white\", \"startlinecolor\": \"#2a3f5f\"}, \"type\": \"carpet\"}], \"choropleth\": [{\"colorbar\": {\"outlinewidth\": 0, \"ticks\": \"\"}, \"type\": \"choropleth\"}], \"contour\": [{\"colorbar\": {\"outlinewidth\": 0, \"ticks\": \"\"}, \"colorscale\": [[0.0, \"#0d0887\"], [0.1111111111111111, \"#46039f\"], [0.2222222222222222, \"#7201a8\"], [0.3333333333333333, \"#9c179e\"], [0.4444444444444444, \"#bd3786\"], [0.5555555555555556, \"#d8576b\"], [0.6666666666666666, \"#ed7953\"], [0.7777777777777778, \"#fb9f3a\"], [0.8888888888888888, \"#fdca26\"], [1.0, \"#f0f921\"]], \"type\": \"contour\"}], \"contourcarpet\": [{\"colorbar\": {\"outlinewidth\": 0, \"ticks\": \"\"}, \"type\": \"contourcarpet\"}], \"heatmap\": [{\"colorbar\": {\"outlinewidth\": 0, \"ticks\": \"\"}, \"colorscale\": [[0.0, \"#0d0887\"], [0.1111111111111111, \"#46039f\"], [0.2222222222222222, \"#7201a8\"], [0.3333333333333333, \"#9c179e\"], [0.4444444444444444, \"#bd3786\"], [0.5555555555555556, \"#d8576b\"], [0.6666666666666666, \"#ed7953\"], [0.7777777777777778, \"#fb9f3a\"], [0.8888888888888888, \"#fdca26\"], [1.0, \"#f0f921\"]], \"type\": \"heatmap\"}], \"heatmapgl\": [{\"colorbar\": {\"outlinewidth\": 0, \"ticks\": \"\"}, \"colorscale\": [[0.0, \"#0d0887\"], [0.1111111111111111, \"#46039f\"], [0.2222222222222222, \"#7201a8\"], [0.3333333333333333, \"#9c179e\"], [0.4444444444444444, \"#bd3786\"], [0.5555555555555556, \"#d8576b\"], [0.6666666666666666, \"#ed7953\"], [0.7777777777777778, \"#fb9f3a\"], [0.8888888888888888, \"#fdca26\"], [1.0, \"#f0f921\"]], \"type\": \"heatmapgl\"}], \"histogram\": [{\"marker\": {\"colorbar\": {\"outlinewidth\": 0, \"ticks\": \"\"}}, \"type\": \"histogram\"}], \"histogram2d\": [{\"colorbar\": {\"outlinewidth\": 0, \"ticks\": \"\"}, \"colorscale\": [[0.0, \"#0d0887\"], [0.1111111111111111, \"#46039f\"], [0.2222222222222222, \"#7201a8\"], [0.3333333333333333, \"#9c179e\"], [0.4444444444444444, \"#bd3786\"], [0.5555555555555556, \"#d8576b\"], [0.6666666666666666, \"#ed7953\"], [0.7777777777777778, \"#fb9f3a\"], [0.8888888888888888, \"#fdca26\"], [1.0, \"#f0f921\"]], \"type\": \"histogram2d\"}], \"histogram2dcontour\": [{\"colorbar\": {\"outlinewidth\": 0, \"ticks\": \"\"}, \"colorscale\": [[0.0, \"#0d0887\"], [0.1111111111111111, \"#46039f\"], [0.2222222222222222, \"#7201a8\"], [0.3333333333333333, \"#9c179e\"], [0.4444444444444444, \"#bd3786\"], [0.5555555555555556, \"#d8576b\"], [0.6666666666666666, \"#ed7953\"], [0.7777777777777778, \"#fb9f3a\"], [0.8888888888888888, \"#fdca26\"], [1.0, \"#f0f921\"]], \"type\": \"histogram2dcontour\"}], \"mesh3d\": [{\"colorbar\": {\"outlinewidth\": 0, \"ticks\": \"\"}, \"type\": \"mesh3d\"}], \"parcoords\": [{\"line\": {\"colorbar\": {\"outlinewidth\": 0, \"ticks\": \"\"}}, \"type\": \"parcoords\"}], \"pie\": [{\"automargin\": true, \"type\": \"pie\"}], \"scatter\": [{\"marker\": {\"colorbar\": {\"outlinewidth\": 0, \"ticks\": \"\"}}, \"type\": \"scatter\"}], \"scatter3d\": [{\"line\": {\"colorbar\": {\"outlinewidth\": 0, \"ticks\": \"\"}}, \"marker\": {\"colorbar\": {\"outlinewidth\": 0, \"ticks\": \"\"}}, \"type\": \"scatter3d\"}], \"scattercarpet\": [{\"marker\": {\"colorbar\": {\"outlinewidth\": 0, \"ticks\": \"\"}}, \"type\": \"scattercarpet\"}], \"scattergeo\": [{\"marker\": {\"colorbar\": {\"outlinewidth\": 0, \"ticks\": \"\"}}, \"type\": \"scattergeo\"}], \"scattergl\": [{\"marker\": {\"colorbar\": {\"outlinewidth\": 0, \"ticks\": \"\"}}, \"type\": \"scattergl\"}], \"scattermapbox\": [{\"marker\": {\"colorbar\": {\"outlinewidth\": 0, \"ticks\": \"\"}}, \"type\": \"scattermapbox\"}], \"scatterpolar\": [{\"marker\": {\"colorbar\": {\"outlinewidth\": 0, \"ticks\": \"\"}}, \"type\": \"scatterpolar\"}], \"scatterpolargl\": [{\"marker\": {\"colorbar\": {\"outlinewidth\": 0, \"ticks\": \"\"}}, \"type\": \"scatterpolargl\"}], \"scatterternary\": [{\"marker\": {\"colorbar\": {\"outlinewidth\": 0, \"ticks\": \"\"}}, \"type\": \"scatterternary\"}], \"surface\": [{\"colorbar\": {\"outlinewidth\": 0, \"ticks\": \"\"}, \"colorscale\": [[0.0, \"#0d0887\"], [0.1111111111111111, \"#46039f\"], [0.2222222222222222, \"#7201a8\"], [0.3333333333333333, \"#9c179e\"], [0.4444444444444444, \"#bd3786\"], [0.5555555555555556, \"#d8576b\"], [0.6666666666666666, \"#ed7953\"], [0.7777777777777778, \"#fb9f3a\"], [0.8888888888888888, \"#fdca26\"], [1.0, \"#f0f921\"]], \"type\": \"surface\"}], \"table\": [{\"cells\": {\"fill\": {\"color\": \"#EBF0F8\"}, \"line\": {\"color\": \"white\"}}, \"header\": {\"fill\": {\"color\": \"#C8D4E3\"}, \"line\": {\"color\": \"white\"}}, \"type\": \"table\"}]}, \"layout\": {\"annotationdefaults\": {\"arrowcolor\": \"#2a3f5f\", \"arrowhead\": 0, \"arrowwidth\": 1}, \"coloraxis\": {\"colorbar\": {\"outlinewidth\": 0, \"ticks\": \"\"}}, \"colorscale\": {\"diverging\": [[0, \"#8e0152\"], [0.1, \"#c51b7d\"], [0.2, \"#de77ae\"], [0.3, \"#f1b6da\"], [0.4, \"#fde0ef\"], [0.5, \"#f7f7f7\"], [0.6, \"#e6f5d0\"], [0.7, \"#b8e186\"], [0.8, \"#7fbc41\"], [0.9, \"#4d9221\"], [1, \"#276419\"]], \"sequential\": [[0.0, \"#0d0887\"], [0.1111111111111111, \"#46039f\"], [0.2222222222222222, \"#7201a8\"], [0.3333333333333333, \"#9c179e\"], [0.4444444444444444, \"#bd3786\"], [0.5555555555555556, \"#d8576b\"], [0.6666666666666666, \"#ed7953\"], [0.7777777777777778, \"#fb9f3a\"], [0.8888888888888888, \"#fdca26\"], [1.0, \"#f0f921\"]], \"sequentialminus\": [[0.0, \"#0d0887\"], [0.1111111111111111, \"#46039f\"], [0.2222222222222222, \"#7201a8\"], [0.3333333333333333, \"#9c179e\"], [0.4444444444444444, \"#bd3786\"], [0.5555555555555556, \"#d8576b\"], [0.6666666666666666, \"#ed7953\"], [0.7777777777777778, \"#fb9f3a\"], [0.8888888888888888, \"#fdca26\"], [1.0, \"#f0f921\"]]}, \"colorway\": [\"#636efa\", \"#EF553B\", \"#00cc96\", \"#ab63fa\", \"#FFA15A\", \"#19d3f3\", \"#FF6692\", \"#B6E880\", \"#FF97FF\", \"#FECB52\"], \"font\": {\"color\": \"#2a3f5f\"}, \"geo\": {\"bgcolor\": \"white\", \"lakecolor\": \"white\", \"landcolor\": \"#E5ECF6\", \"showlakes\": true, \"showland\": true, \"subunitcolor\": \"white\"}, \"hoverlabel\": {\"align\": \"left\"}, \"hovermode\": \"closest\", \"mapbox\": {\"style\": \"light\"}, \"paper_bgcolor\": \"white\", \"plot_bgcolor\": \"#E5ECF6\", \"polar\": {\"angularaxis\": {\"gridcolor\": \"white\", \"linecolor\": \"white\", \"ticks\": \"\"}, \"bgcolor\": \"#E5ECF6\", \"radialaxis\": {\"gridcolor\": \"white\", \"linecolor\": \"white\", \"ticks\": \"\"}}, \"scene\": {\"xaxis\": {\"backgroundcolor\": \"#E5ECF6\", \"gridcolor\": \"white\", \"gridwidth\": 2, \"linecolor\": \"white\", \"showbackground\": true, \"ticks\": \"\", \"zerolinecolor\": \"white\"}, \"yaxis\": {\"backgroundcolor\": \"#E5ECF6\", \"gridcolor\": \"white\", \"gridwidth\": 2, \"linecolor\": \"white\", \"showbackground\": true, \"ticks\": \"\", \"zerolinecolor\": \"white\"}, \"zaxis\": {\"backgroundcolor\": \"#E5ECF6\", \"gridcolor\": \"white\", \"gridwidth\": 2, \"linecolor\": \"white\", \"showbackground\": true, \"ticks\": \"\", \"zerolinecolor\": \"white\"}}, \"shapedefaults\": {\"line\": {\"color\": \"#2a3f5f\"}}, \"ternary\": {\"aaxis\": {\"gridcolor\": \"white\", \"linecolor\": \"white\", \"ticks\": \"\"}, \"baxis\": {\"gridcolor\": \"white\", \"linecolor\": \"white\", \"ticks\": \"\"}, \"bgcolor\": \"#E5ECF6\", \"caxis\": {\"gridcolor\": \"white\", \"linecolor\": \"white\", \"ticks\": \"\"}}, \"title\": {\"x\": 0.05}, \"xaxis\": {\"automargin\": true, \"gridcolor\": \"white\", \"linecolor\": \"white\", \"ticks\": \"\", \"title\": {\"standoff\": 15}, \"zerolinecolor\": \"white\", \"zerolinewidth\": 2}, \"yaxis\": {\"automargin\": true, \"gridcolor\": \"white\", \"linecolor\": \"white\", \"ticks\": \"\", \"title\": {\"standoff\": 15}, \"zerolinecolor\": \"white\", \"zerolinewidth\": 2}}}, \"width\": 1000, \"xaxis\": {\"linecolor\": \"rgb(204, 204, 204)\", \"linewidth\": 2, \"nticks\": 11, \"range\": [\"2010\", \"2020\"], \"showgrid\": false, \"showline\": true, \"showticklabels\": true, \"tickfont\": {\"color\": \"rgb(82, 82, 82)\", \"family\": \"Arial\", \"size\": 12}, \"ticks\": \"outside\"}, \"yaxis\": {\"gridcolor\": \"rgb(169, 173, 168)\", \"showgrid\": true, \"showline\": false, \"showticklabels\": true, \"zeroline\": true}},\n",
              "                        {\"responsive\": true}\n",
              "                    ).then(function(){\n",
              "                            \n",
              "var gd = document.getElementById('7e45cb1d-2d0c-4b70-bea7-2584cc4c2dcf');\n",
              "var x = new MutationObserver(function (mutations, observer) {{\n",
              "        var display = window.getComputedStyle(gd).display;\n",
              "        if (!display || display === 'none') {{\n",
              "            console.log([gd, 'removed!']);\n",
              "            Plotly.purge(gd);\n",
              "            observer.disconnect();\n",
              "        }}\n",
              "}});\n",
              "\n",
              "// Listen for the removal of the full notebook cells\n",
              "var notebookContainer = gd.closest('#notebook-container');\n",
              "if (notebookContainer) {{\n",
              "    x.observe(notebookContainer, {childList: true});\n",
              "}}\n",
              "\n",
              "// Listen for the clearing of the current output cell\n",
              "var outputEl = gd.closest('.output');\n",
              "if (outputEl) {{\n",
              "    x.observe(outputEl, {childList: true});\n",
              "}}\n",
              "\n",
              "                        })\n",
              "                };\n",
              "                \n",
              "            </script>\n",
              "        </div>\n",
              "</body>\n",
              "</html>"
            ]
          },
          "metadata": {
            "tags": []
          }
        }
      ]
    }
  ]
}